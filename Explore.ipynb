{
 "cells": [
  {
   "cell_type": "markdown",
   "metadata": {},
   "source": [
    "## Querying data with DuckDB"
   ]
  },
  {
   "cell_type": "markdown",
   "metadata": {},
   "source": [
    "### Import packages"
   ]
  },
  {
   "cell_type": "code",
   "execution_count": 1,
   "metadata": {},
   "outputs": [
    {
     "data": {
      "text/plain": [
       "True"
      ]
     },
     "execution_count": 1,
     "metadata": {},
     "output_type": "execute_result"
    }
   ],
   "source": [
    "from duckdb_utils.query_parquet import setup_duckdb_connection, load_parquet_from_bucket\n",
    "import os\n",
    "from dotenv import load_dotenv\n",
    "load_dotenv()"
   ]
  },
  {
   "cell_type": "markdown",
   "metadata": {},
   "source": [
    "### Load your credentials"
   ]
  },
  {
   "cell_type": "code",
   "execution_count": 2,
   "metadata": {},
   "outputs": [],
   "source": [
    "ACCESS = os.getenv(\"GCS_ACCESS_KEY\")\n",
    "SECRET = os.getenv(\"GCS_SECRET\")\n",
    "BUCKET_NAME = os.getenv(\"GCS_BUCKET_NAME\")\n",
    "BUCKET_PATH_BRONZE = os.getenv(\"GCS_BUCKET_PATH_BRONZE\")\n",
    "BUCKET_PATH_SILVER = os.getenv(\"GCS_BUCKET_PATH_SILVER\")\n",
    "BUCKET_PATH_GOLD = os.getenv(\"GCS_BUCKET_PATH_GOLD\")"
   ]
  },
  {
   "cell_type": "markdown",
   "metadata": {},
   "source": [
    "### Connect"
   ]
  },
  {
   "cell_type": "code",
   "execution_count": 3,
   "metadata": {},
   "outputs": [],
   "source": [
    "duckdb_conn = setup_duckdb_connection(ACCESS, SECRET)"
   ]
  },
  {
   "cell_type": "markdown",
   "metadata": {},
   "source": [
    "### Load parquet files"
   ]
  },
  {
   "cell_type": "code",
   "execution_count": 4,
   "metadata": {},
   "outputs": [],
   "source": [
    "table_name = 'gold_table'\n",
    "bucket_path = f\"cornershop-raw/gold/year=2023/month=*/day=*/*.parquet\"\n",
    "load_parquet_from_bucket(duckdb_conn, table_name=table_name, bucket_path=bucket_path)"
   ]
  },
  {
   "cell_type": "markdown",
   "metadata": {},
   "source": [
    "### Read the data with Pandas"
   ]
  },
  {
   "cell_type": "code",
   "execution_count": 5,
   "metadata": {},
   "outputs": [],
   "source": [
    "df_gold = duckdb_conn.sql(f\"SELECT * FROM {table_name}\").df()"
   ]
  },
  {
   "cell_type": "code",
   "execution_count": 6,
   "metadata": {},
   "outputs": [
    {
     "name": "stdout",
     "output_type": "stream",
     "text": [
      "<class 'pandas.core.frame.DataFrame'>\n",
      "RangeIndex: 244028 entries, 0 to 244027\n",
      "Data columns (total 9 columns):\n",
      " #   Column        Non-Null Count   Dtype         \n",
      "---  ------        --------------   -----         \n",
      " 0   date          244028 non-null  datetime64[ns]\n",
      " 1   aisle_name    244028 non-null  object        \n",
      " 2   product_name  244028 non-null  object        \n",
      " 3   brand         244028 non-null  object        \n",
      " 4   package       244028 non-null  object        \n",
      " 5   search_term   244028 non-null  object        \n",
      " 6   price         244028 non-null  float64       \n",
      " 7   store_name    244028 non-null  object        \n",
      " 8   store_city    244028 non-null  object        \n",
      "dtypes: datetime64[ns](1), float64(1), object(7)\n",
      "memory usage: 16.8+ MB\n"
     ]
    }
   ],
   "source": [
    "df_gold.info()"
   ]
  },
  {
   "cell_type": "code",
   "execution_count": 7,
   "metadata": {},
   "outputs": [
    {
     "data": {
      "text/html": [
       "<div>\n",
       "<style scoped>\n",
       "    .dataframe tbody tr th:only-of-type {\n",
       "        vertical-align: middle;\n",
       "    }\n",
       "\n",
       "    .dataframe tbody tr th {\n",
       "        vertical-align: top;\n",
       "    }\n",
       "\n",
       "    .dataframe thead th {\n",
       "        text-align: right;\n",
       "    }\n",
       "</style>\n",
       "<table border=\"1\" class=\"dataframe\">\n",
       "  <thead>\n",
       "    <tr style=\"text-align: right;\">\n",
       "      <th></th>\n",
       "      <th>date</th>\n",
       "      <th>aisle_name</th>\n",
       "      <th>product_name</th>\n",
       "      <th>brand</th>\n",
       "      <th>package</th>\n",
       "      <th>search_term</th>\n",
       "      <th>price</th>\n",
       "      <th>store_name</th>\n",
       "      <th>store_city</th>\n",
       "    </tr>\n",
       "  </thead>\n",
       "  <tbody>\n",
       "    <tr>\n",
       "      <th>226505</th>\n",
       "      <td>2023-08-09</td>\n",
       "      <td>Lanches e acompanhamentos congelados</td>\n",
       "      <td>Steak de frango empanado congelado</td>\n",
       "      <td>Perdigão</td>\n",
       "      <td>100g</td>\n",
       "      <td>empanado</td>\n",
       "      <td>2.59</td>\n",
       "      <td>Carrefour Hiper</td>\n",
       "      <td>FLN</td>\n",
       "    </tr>\n",
       "    <tr>\n",
       "      <th>178458</th>\n",
       "      <td>2023-08-07</td>\n",
       "      <td>Balas de gelatina</td>\n",
       "      <td>Bala de gelatina sortidas sabor de frutas Aviões</td>\n",
       "      <td>Haribo</td>\n",
       "      <td>Pacote 90g</td>\n",
       "      <td>haribo</td>\n",
       "      <td>3.99</td>\n",
       "      <td>Atacadão</td>\n",
       "      <td>FLN</td>\n",
       "    </tr>\n",
       "    <tr>\n",
       "      <th>190634</th>\n",
       "      <td>2023-08-07</td>\n",
       "      <td>Shampoo e condicionador</td>\n",
       "      <td>Shampoo anticaspa anticoceira</td>\n",
       "      <td>Head &amp; Shoulders</td>\n",
       "      <td>400ml</td>\n",
       "      <td>cabelo</td>\n",
       "      <td>27.89</td>\n",
       "      <td>Farmácia Preço Popular</td>\n",
       "      <td>FLN</td>\n",
       "    </tr>\n",
       "    <tr>\n",
       "      <th>94259</th>\n",
       "      <td>2023-08-02</td>\n",
       "      <td>Sucos e néctares</td>\n",
       "      <td>Néctar de abacaxi</td>\n",
       "      <td>Del Valle</td>\n",
       "      <td>1l</td>\n",
       "      <td>abacaxi</td>\n",
       "      <td>7.59</td>\n",
       "      <td>BIG by Carrefour</td>\n",
       "      <td>FLN</td>\n",
       "    </tr>\n",
       "    <tr>\n",
       "      <th>32473</th>\n",
       "      <td>2023-07-28</td>\n",
       "      <td>Alimento seco para gatos</td>\n",
       "      <td>Ração seca sabor frango para gatos adultos Fri...</td>\n",
       "      <td>Purina</td>\n",
       "      <td>1kg</td>\n",
       "      <td>frango</td>\n",
       "      <td>31.99</td>\n",
       "      <td>BIG by Carrefour</td>\n",
       "      <td>FLN</td>\n",
       "    </tr>\n",
       "    <tr>\n",
       "      <th>154413</th>\n",
       "      <td>2023-08-05</td>\n",
       "      <td>Comida e fórmula bebês</td>\n",
       "      <td>Cereal infantil banana, maçã e quinoa</td>\n",
       "      <td>Mucilon</td>\n",
       "      <td>180g</td>\n",
       "      <td>cevada</td>\n",
       "      <td>9.12</td>\n",
       "      <td>Pague Menos</td>\n",
       "      <td>FLN</td>\n",
       "    </tr>\n",
       "    <tr>\n",
       "      <th>22937</th>\n",
       "      <td>2023-07-28</td>\n",
       "      <td>Chocolate</td>\n",
       "      <td>Chocolate ao leite com amendoim Shot</td>\n",
       "      <td>Lacta</td>\n",
       "      <td>Barra 80g</td>\n",
       "      <td>amendoim</td>\n",
       "      <td>6.45</td>\n",
       "      <td>Hippo</td>\n",
       "      <td>FLN</td>\n",
       "    </tr>\n",
       "    <tr>\n",
       "      <th>145233</th>\n",
       "      <td>2023-08-05</td>\n",
       "      <td>Vitaminas e suplementos</td>\n",
       "      <td>Colágeno hidrolisado Q10+Vit.C</td>\n",
       "      <td>Fixa Derme</td>\n",
       "      <td>15x3 gomas</td>\n",
       "      <td>cerveja</td>\n",
       "      <td>80.99</td>\n",
       "      <td>Droga Raia</td>\n",
       "      <td>FLN</td>\n",
       "    </tr>\n",
       "    <tr>\n",
       "      <th>31830</th>\n",
       "      <td>2023-07-28</td>\n",
       "      <td>Cerveja</td>\n",
       "      <td>Cerveja de trigo weizenbier</td>\n",
       "      <td>Eisenbahn</td>\n",
       "      <td>Garrafa 355ml</td>\n",
       "      <td>trigo</td>\n",
       "      <td>6.69</td>\n",
       "      <td>Carrefour Hiper</td>\n",
       "      <td>FLN</td>\n",
       "    </tr>\n",
       "    <tr>\n",
       "      <th>109718</th>\n",
       "      <td>2023-08-03</td>\n",
       "      <td>Carne de porco</td>\n",
       "      <td>Bisteca suína congelada</td>\n",
       "      <td>Sadia</td>\n",
       "      <td>Embalagem de 500g aprox.</td>\n",
       "      <td>porco</td>\n",
       "      <td>10.30</td>\n",
       "      <td>Carrefour Hiper</td>\n",
       "      <td>FLN</td>\n",
       "    </tr>\n",
       "  </tbody>\n",
       "</table>\n",
       "</div>"
      ],
      "text/plain": [
       "             date                            aisle_name  \\\n",
       "226505 2023-08-09  Lanches e acompanhamentos congelados   \n",
       "178458 2023-08-07                     Balas de gelatina   \n",
       "190634 2023-08-07               Shampoo e condicionador   \n",
       "94259  2023-08-02                      Sucos e néctares   \n",
       "32473  2023-07-28              Alimento seco para gatos   \n",
       "154413 2023-08-05                Comida e fórmula bebês   \n",
       "22937  2023-07-28                             Chocolate   \n",
       "145233 2023-08-05               Vitaminas e suplementos   \n",
       "31830  2023-07-28                               Cerveja   \n",
       "109718 2023-08-03                        Carne de porco   \n",
       "\n",
       "                                             product_name             brand  \\\n",
       "226505                 Steak de frango empanado congelado          Perdigão   \n",
       "178458   Bala de gelatina sortidas sabor de frutas Aviões            Haribo   \n",
       "190634                      Shampoo anticaspa anticoceira  Head & Shoulders   \n",
       "94259                                   Néctar de abacaxi         Del Valle   \n",
       "32473   Ração seca sabor frango para gatos adultos Fri...            Purina   \n",
       "154413              Cereal infantil banana, maçã e quinoa           Mucilon   \n",
       "22937                Chocolate ao leite com amendoim Shot             Lacta   \n",
       "145233                     Colágeno hidrolisado Q10+Vit.C        Fixa Derme   \n",
       "31830                         Cerveja de trigo weizenbier         Eisenbahn   \n",
       "109718                            Bisteca suína congelada             Sadia   \n",
       "\n",
       "                         package search_term  price              store_name  \\\n",
       "226505                      100g    empanado   2.59         Carrefour Hiper   \n",
       "178458                Pacote 90g      haribo   3.99                Atacadão   \n",
       "190634                     400ml      cabelo  27.89  Farmácia Preço Popular   \n",
       "94259                         1l     abacaxi   7.59        BIG by Carrefour   \n",
       "32473                        1kg      frango  31.99        BIG by Carrefour   \n",
       "154413                      180g      cevada   9.12             Pague Menos   \n",
       "22937                  Barra 80g    amendoim   6.45                   Hippo   \n",
       "145233                15x3 gomas     cerveja  80.99              Droga Raia   \n",
       "31830              Garrafa 355ml       trigo   6.69         Carrefour Hiper   \n",
       "109718  Embalagem de 500g aprox.       porco  10.30         Carrefour Hiper   \n",
       "\n",
       "       store_city  \n",
       "226505        FLN  \n",
       "178458        FLN  \n",
       "190634        FLN  \n",
       "94259         FLN  \n",
       "32473         FLN  \n",
       "154413        FLN  \n",
       "22937         FLN  \n",
       "145233        FLN  \n",
       "31830         FLN  \n",
       "109718        FLN  "
      ]
     },
     "execution_count": 7,
     "metadata": {},
     "output_type": "execute_result"
    }
   ],
   "source": [
    "df_gold.sample(10)"
   ]
  },
  {
   "cell_type": "markdown",
   "metadata": {},
   "source": [
    "### Finding the Most Observed Product Name Across Different Dates"
   ]
  },
  {
   "cell_type": "code",
   "execution_count": 73,
   "metadata": {},
   "outputs": [
    {
     "data": {
      "text/plain": [
       "product_name\n",
       "Bala de gelatina sticks ácido sabor morango                14\n",
       "Bala de gelatina Sticks sabor framboesa                    14\n",
       "Bala de gelatina sabor morango e framboesa Dentinhos       14\n",
       "Bala gelatina ursinho de ouro                              14\n",
       "Bala de gelatina sabor frutas sortidas Ursinhos de Ouro    14\n",
       "Bala de gelatina sabor banana                              14\n",
       "Bala sticks sabor morango ácido                            14\n",
       "Bala de gelatina gotinhas                                  14\n",
       "Bala de gelatina Wummies zourr sabor frutas                14\n",
       "Bala de gelatina Ursinhos de Ouro sabor frutas             14\n",
       "Name: date, dtype: int64"
      ]
     },
     "execution_count": 73,
     "metadata": {},
     "output_type": "execute_result"
    }
   ],
   "source": [
    "# Group by 'product_name' and count distinct dates\n",
    "product_date_counts = df_gold.groupby('product_name')['date'].nunique()\n",
    "\n",
    "# Find the product_name with the most date observations\n",
    "most_observed_product = product_date_counts.sort_values(ascending=False).head(10)\n",
    "most_observed_product"
   ]
  },
  {
   "cell_type": "markdown",
   "metadata": {},
   "source": [
    "### Top 10 Most Frequent Product Names"
   ]
  },
  {
   "cell_type": "code",
   "execution_count": 66,
   "metadata": {},
   "outputs": [
    {
     "data": {
      "text/plain": [
       "product_name\n",
       "Fio dental essencial menta                  942\n",
       "Enxaguante bucal Cool Mint                  861\n",
       "Creme dental tripla ação menta original     686\n",
       "Salgadinho de milho sabor queijo nacho      685\n",
       "Salgadinho de milho sabor presunto          667\n",
       "Bebida láctea UHT sabor coco batata-doce    631\n",
       "Refrigerante sabor original                 624\n",
       "Sabonete líquido glicerinado Bebê           621\n",
       "Cereal infantil banana, maçã e quinoa       559\n",
       "Creme dental triple hortelã                 525\n",
       "Name: count, dtype: int64"
      ]
     },
     "execution_count": 66,
     "metadata": {},
     "output_type": "execute_result"
    }
   ],
   "source": [
    "# Find the most frequent product_name\n",
    "top10_frequent_product = df_gold['product_name'].value_counts().head(10)\n",
    "top10_frequent_product"
   ]
  },
  {
   "cell_type": "markdown",
   "metadata": {},
   "source": [
    "### Select one product"
   ]
  },
  {
   "cell_type": "code",
   "execution_count": 139,
   "metadata": {},
   "outputs": [
    {
     "data": {
      "text/html": [
       "<div>\n",
       "<style scoped>\n",
       "    .dataframe tbody tr th:only-of-type {\n",
       "        vertical-align: middle;\n",
       "    }\n",
       "\n",
       "    .dataframe tbody tr th {\n",
       "        vertical-align: top;\n",
       "    }\n",
       "\n",
       "    .dataframe thead th {\n",
       "        text-align: right;\n",
       "    }\n",
       "</style>\n",
       "<table border=\"1\" class=\"dataframe\">\n",
       "  <thead>\n",
       "    <tr style=\"text-align: right;\">\n",
       "      <th></th>\n",
       "      <th>date</th>\n",
       "      <th>aisle_name</th>\n",
       "      <th>product_name</th>\n",
       "      <th>brand</th>\n",
       "      <th>package</th>\n",
       "      <th>search_term</th>\n",
       "      <th>price</th>\n",
       "      <th>store_name</th>\n",
       "      <th>store_city</th>\n",
       "    </tr>\n",
       "  </thead>\n",
       "  <tbody>\n",
       "    <tr>\n",
       "      <th>340</th>\n",
       "      <td>2023-07-26</td>\n",
       "      <td>Balas de gelatina</td>\n",
       "      <td>Bala de gelatina sabor morango e framboesa Den...</td>\n",
       "      <td>Haribo</td>\n",
       "      <td>Pacote 90g</td>\n",
       "      <td>Haribo</td>\n",
       "      <td>4.99</td>\n",
       "      <td>Atacadão</td>\n",
       "      <td>FLN</td>\n",
       "    </tr>\n",
       "    <tr>\n",
       "      <th>341</th>\n",
       "      <td>2023-07-26</td>\n",
       "      <td>Balas de gelatina</td>\n",
       "      <td>Bala de gelatina Ursinhos de Ouro sabor frutas</td>\n",
       "      <td>Haribo</td>\n",
       "      <td>Pacote 90g</td>\n",
       "      <td>Haribo</td>\n",
       "      <td>4.99</td>\n",
       "      <td>Atacadão</td>\n",
       "      <td>FLN</td>\n",
       "    </tr>\n",
       "    <tr>\n",
       "      <th>342</th>\n",
       "      <td>2023-07-26</td>\n",
       "      <td>Balas de gelatina</td>\n",
       "      <td>Bala de gelatina sabor frutas sortidas Ursinho...</td>\n",
       "      <td>Haribo</td>\n",
       "      <td>Pacote 60g</td>\n",
       "      <td>Haribo</td>\n",
       "      <td>2.99</td>\n",
       "      <td>Atacadão</td>\n",
       "      <td>FLN</td>\n",
       "    </tr>\n",
       "    <tr>\n",
       "      <th>343</th>\n",
       "      <td>2023-07-26</td>\n",
       "      <td>Balas de gelatina</td>\n",
       "      <td>Bala de gelatina sabor morango e nata Cream Kiss</td>\n",
       "      <td>Haribo</td>\n",
       "      <td>Pacote 90g</td>\n",
       "      <td>Haribo</td>\n",
       "      <td>4.99</td>\n",
       "      <td>Atacadão</td>\n",
       "      <td>FLN</td>\n",
       "    </tr>\n",
       "    <tr>\n",
       "      <th>344</th>\n",
       "      <td>2023-07-26</td>\n",
       "      <td>Balas de gelatina</td>\n",
       "      <td>Bala sticks sabor morango ácido</td>\n",
       "      <td>Haribo</td>\n",
       "      <td>80g</td>\n",
       "      <td>Haribo</td>\n",
       "      <td>4.99</td>\n",
       "      <td>Atacadão</td>\n",
       "      <td>FLN</td>\n",
       "    </tr>\n",
       "    <tr>\n",
       "      <th>...</th>\n",
       "      <td>...</td>\n",
       "      <td>...</td>\n",
       "      <td>...</td>\n",
       "      <td>...</td>\n",
       "      <td>...</td>\n",
       "      <td>...</td>\n",
       "      <td>...</td>\n",
       "      <td>...</td>\n",
       "      <td>...</td>\n",
       "    </tr>\n",
       "    <tr>\n",
       "      <th>244023</th>\n",
       "      <td>2023-08-13</td>\n",
       "      <td>Balas de gelatina</td>\n",
       "      <td>Bala de gelatina Sticks ácido sabor tutti</td>\n",
       "      <td>Haribo</td>\n",
       "      <td>80g</td>\n",
       "      <td>Haribo</td>\n",
       "      <td>7.29</td>\n",
       "      <td>Carrefour Hiper</td>\n",
       "      <td>FLN</td>\n",
       "    </tr>\n",
       "    <tr>\n",
       "      <th>244024</th>\n",
       "      <td>2023-08-13</td>\n",
       "      <td>Balas de gelatina</td>\n",
       "      <td>Marshmallow Chamallows sabor morango</td>\n",
       "      <td>Haribo</td>\n",
       "      <td>80g</td>\n",
       "      <td>Haribo</td>\n",
       "      <td>7.29</td>\n",
       "      <td>Carrefour Hiper</td>\n",
       "      <td>FLN</td>\n",
       "    </tr>\n",
       "    <tr>\n",
       "      <th>244025</th>\n",
       "      <td>2023-08-13</td>\n",
       "      <td>Balas de gelatina</td>\n",
       "      <td>Bala de gelatina Sticks sabor framboesa</td>\n",
       "      <td>Haribo</td>\n",
       "      <td>80g</td>\n",
       "      <td>Haribo</td>\n",
       "      <td>7.29</td>\n",
       "      <td>Carrefour Hiper</td>\n",
       "      <td>FLN</td>\n",
       "    </tr>\n",
       "    <tr>\n",
       "      <th>244026</th>\n",
       "      <td>2023-08-13</td>\n",
       "      <td>Balas de gelatina</td>\n",
       "      <td>Bala de gelatina sabor banana</td>\n",
       "      <td>Haribo</td>\n",
       "      <td>80g</td>\n",
       "      <td>Haribo</td>\n",
       "      <td>5.99</td>\n",
       "      <td>Carrefour Hiper</td>\n",
       "      <td>FLN</td>\n",
       "    </tr>\n",
       "    <tr>\n",
       "      <th>244027</th>\n",
       "      <td>2023-08-13</td>\n",
       "      <td>Balas de gelatina</td>\n",
       "      <td>Bala de gelatina Sticks ácido sabor framboesa</td>\n",
       "      <td>Haribo</td>\n",
       "      <td>80g</td>\n",
       "      <td>Haribo</td>\n",
       "      <td>7.29</td>\n",
       "      <td>Carrefour Hiper</td>\n",
       "      <td>FLN</td>\n",
       "    </tr>\n",
       "  </tbody>\n",
       "</table>\n",
       "<p>964 rows × 9 columns</p>\n",
       "</div>"
      ],
      "text/plain": [
       "             date         aisle_name  \\\n",
       "340    2023-07-26  Balas de gelatina   \n",
       "341    2023-07-26  Balas de gelatina   \n",
       "342    2023-07-26  Balas de gelatina   \n",
       "343    2023-07-26  Balas de gelatina   \n",
       "344    2023-07-26  Balas de gelatina   \n",
       "...           ...                ...   \n",
       "244023 2023-08-13  Balas de gelatina   \n",
       "244024 2023-08-13  Balas de gelatina   \n",
       "244025 2023-08-13  Balas de gelatina   \n",
       "244026 2023-08-13  Balas de gelatina   \n",
       "244027 2023-08-13  Balas de gelatina   \n",
       "\n",
       "                                             product_name   brand     package  \\\n",
       "340     Bala de gelatina sabor morango e framboesa Den...  Haribo  Pacote 90g   \n",
       "341        Bala de gelatina Ursinhos de Ouro sabor frutas  Haribo  Pacote 90g   \n",
       "342     Bala de gelatina sabor frutas sortidas Ursinho...  Haribo  Pacote 60g   \n",
       "343      Bala de gelatina sabor morango e nata Cream Kiss  Haribo  Pacote 90g   \n",
       "344                       Bala sticks sabor morango ácido  Haribo         80g   \n",
       "...                                                   ...     ...         ...   \n",
       "244023          Bala de gelatina Sticks ácido sabor tutti  Haribo         80g   \n",
       "244024               Marshmallow Chamallows sabor morango  Haribo         80g   \n",
       "244025            Bala de gelatina Sticks sabor framboesa  Haribo         80g   \n",
       "244026                      Bala de gelatina sabor banana  Haribo         80g   \n",
       "244027      Bala de gelatina Sticks ácido sabor framboesa  Haribo         80g   \n",
       "\n",
       "       search_term  price       store_name store_city  \n",
       "340         Haribo   4.99         Atacadão        FLN  \n",
       "341         Haribo   4.99         Atacadão        FLN  \n",
       "342         Haribo   2.99         Atacadão        FLN  \n",
       "343         Haribo   4.99         Atacadão        FLN  \n",
       "344         Haribo   4.99         Atacadão        FLN  \n",
       "...            ...    ...              ...        ...  \n",
       "244023      Haribo   7.29  Carrefour Hiper        FLN  \n",
       "244024      Haribo   7.29  Carrefour Hiper        FLN  \n",
       "244025      Haribo   7.29  Carrefour Hiper        FLN  \n",
       "244026      Haribo   5.99  Carrefour Hiper        FLN  \n",
       "244027      Haribo   7.29  Carrefour Hiper        FLN  \n",
       "\n",
       "[964 rows x 9 columns]"
      ]
     },
     "execution_count": 139,
     "metadata": {},
     "output_type": "execute_result"
    }
   ],
   "source": [
    "# select the brand\n",
    "df_haribo = df_gold.query('brand == \"Haribo\"')\n",
    "df_haribo"
   ]
  },
  {
   "cell_type": "markdown",
   "metadata": {},
   "source": [
    "#### Clean `package` column"
   ]
  },
  {
   "cell_type": "code",
   "execution_count": 140,
   "metadata": {},
   "outputs": [
    {
     "data": {
      "text/plain": [
       "array(['Pacote 90g', 'Pacote 60g', '80g', '100g', 'Pacote 80g', '250g',\n",
       "       '50g'], dtype=object)"
      ]
     },
     "execution_count": 140,
     "metadata": {},
     "output_type": "execute_result"
    }
   ],
   "source": [
    "df_haribo.package.unique()"
   ]
  },
  {
   "cell_type": "code",
   "execution_count": 141,
   "metadata": {},
   "outputs": [],
   "source": [
    "df_haribo.loc[:, 'package'] = df_haribo['package'].str.replace('Pacote|g', '', regex=True).astype('int')"
   ]
  },
  {
   "cell_type": "markdown",
   "metadata": {},
   "source": [
    "#### Filter for Acid Sticks"
   ]
  },
  {
   "cell_type": "code",
   "execution_count": 143,
   "metadata": {},
   "outputs": [
    {
     "data": {
      "text/html": [
       "<div>\n",
       "<style scoped>\n",
       "    .dataframe tbody tr th:only-of-type {\n",
       "        vertical-align: middle;\n",
       "    }\n",
       "\n",
       "    .dataframe tbody tr th {\n",
       "        vertical-align: top;\n",
       "    }\n",
       "\n",
       "    .dataframe thead th {\n",
       "        text-align: right;\n",
       "    }\n",
       "</style>\n",
       "<table border=\"1\" class=\"dataframe\">\n",
       "  <thead>\n",
       "    <tr style=\"text-align: right;\">\n",
       "      <th></th>\n",
       "      <th>date</th>\n",
       "      <th>aisle_name</th>\n",
       "      <th>product_name</th>\n",
       "      <th>brand</th>\n",
       "      <th>package</th>\n",
       "      <th>search_term</th>\n",
       "      <th>price</th>\n",
       "      <th>store_name</th>\n",
       "      <th>store_city</th>\n",
       "    </tr>\n",
       "  </thead>\n",
       "  <tbody>\n",
       "    <tr>\n",
       "      <th>344</th>\n",
       "      <td>2023-07-26</td>\n",
       "      <td>Balas de gelatina</td>\n",
       "      <td>Bala sticks sabor morango ácido</td>\n",
       "      <td>Haribo</td>\n",
       "      <td>80</td>\n",
       "      <td>Haribo</td>\n",
       "      <td>4.99</td>\n",
       "      <td>Atacadão</td>\n",
       "      <td>FLN</td>\n",
       "    </tr>\n",
       "    <tr>\n",
       "      <th>349</th>\n",
       "      <td>2023-07-26</td>\n",
       "      <td>Balas de gelatina</td>\n",
       "      <td>Bala de gelatina sticks ácido sabor morango</td>\n",
       "      <td>Haribo</td>\n",
       "      <td>80</td>\n",
       "      <td>Haribo</td>\n",
       "      <td>6.29</td>\n",
       "      <td>Angeloni Supermercados</td>\n",
       "      <td>FLN</td>\n",
       "    </tr>\n",
       "    <tr>\n",
       "      <th>356</th>\n",
       "      <td>2023-07-26</td>\n",
       "      <td>Balas de gelatina</td>\n",
       "      <td>Bala de gelatina Sticks ácido sabor tutti</td>\n",
       "      <td>Haribo</td>\n",
       "      <td>80</td>\n",
       "      <td>Haribo</td>\n",
       "      <td>7.29</td>\n",
       "      <td>BIG by Carrefour</td>\n",
       "      <td>FLN</td>\n",
       "    </tr>\n",
       "    <tr>\n",
       "      <th>358</th>\n",
       "      <td>2023-07-26</td>\n",
       "      <td>Balas de gelatina</td>\n",
       "      <td>Bala de gelatina Sticks ácido sabor framboesa</td>\n",
       "      <td>Haribo</td>\n",
       "      <td>80</td>\n",
       "      <td>Haribo</td>\n",
       "      <td>7.29</td>\n",
       "      <td>BIG by Carrefour</td>\n",
       "      <td>FLN</td>\n",
       "    </tr>\n",
       "    <tr>\n",
       "      <th>363</th>\n",
       "      <td>2023-07-26</td>\n",
       "      <td>Balas de gelatina</td>\n",
       "      <td>Bala de gelatina Sticks ácido sabor tutti</td>\n",
       "      <td>Haribo</td>\n",
       "      <td>80</td>\n",
       "      <td>Haribo</td>\n",
       "      <td>7.29</td>\n",
       "      <td>Carrefour Hiper</td>\n",
       "      <td>FLN</td>\n",
       "    </tr>\n",
       "  </tbody>\n",
       "</table>\n",
       "</div>"
      ],
      "text/plain": [
       "          date         aisle_name  \\\n",
       "344 2023-07-26  Balas de gelatina   \n",
       "349 2023-07-26  Balas de gelatina   \n",
       "356 2023-07-26  Balas de gelatina   \n",
       "358 2023-07-26  Balas de gelatina   \n",
       "363 2023-07-26  Balas de gelatina   \n",
       "\n",
       "                                      product_name   brand package  \\\n",
       "344                Bala sticks sabor morango ácido  Haribo      80   \n",
       "349    Bala de gelatina sticks ácido sabor morango  Haribo      80   \n",
       "356      Bala de gelatina Sticks ácido sabor tutti  Haribo      80   \n",
       "358  Bala de gelatina Sticks ácido sabor framboesa  Haribo      80   \n",
       "363      Bala de gelatina Sticks ácido sabor tutti  Haribo      80   \n",
       "\n",
       "    search_term  price              store_name store_city  \n",
       "344      Haribo   4.99                Atacadão        FLN  \n",
       "349      Haribo   6.29  Angeloni Supermercados        FLN  \n",
       "356      Haribo   7.29        BIG by Carrefour        FLN  \n",
       "358      Haribo   7.29        BIG by Carrefour        FLN  \n",
       "363      Haribo   7.29         Carrefour Hiper        FLN  "
      ]
     },
     "execution_count": 143,
     "metadata": {},
     "output_type": "execute_result"
    }
   ],
   "source": [
    "# filter the DataFrame and return rows where the 'product_name' column contains the string 'stick'\n",
    "df_haribo_sticks = df_haribo[df_haribo['product_name'].str.contains('stick', case=False) & df_haribo['product_name'].str.contains('ácido', case=False)]\n",
    "df_haribo_sticks.head(5)"
   ]
  },
  {
   "cell_type": "markdown",
   "metadata": {},
   "source": [
    "#### Turn dataframe to TS data"
   ]
  },
  {
   "cell_type": "code",
   "execution_count": 148,
   "metadata": {},
   "outputs": [
    {
     "data": {
      "text/html": [
       "<div>\n",
       "<style scoped>\n",
       "    .dataframe tbody tr th:only-of-type {\n",
       "        vertical-align: middle;\n",
       "    }\n",
       "\n",
       "    .dataframe tbody tr th {\n",
       "        vertical-align: top;\n",
       "    }\n",
       "\n",
       "    .dataframe thead th {\n",
       "        text-align: right;\n",
       "    }\n",
       "</style>\n",
       "<table border=\"1\" class=\"dataframe\">\n",
       "  <thead>\n",
       "    <tr style=\"text-align: right;\">\n",
       "      <th></th>\n",
       "      <th>store_name</th>\n",
       "      <th>date</th>\n",
       "      <th>price</th>\n",
       "    </tr>\n",
       "  </thead>\n",
       "  <tbody>\n",
       "    <tr>\n",
       "      <th>0</th>\n",
       "      <td>Angeloni Supermercados</td>\n",
       "      <td>2023-07-26</td>\n",
       "      <td>6.29</td>\n",
       "    </tr>\n",
       "    <tr>\n",
       "      <th>1</th>\n",
       "      <td>Angeloni Supermercados</td>\n",
       "      <td>2023-07-27</td>\n",
       "      <td>6.29</td>\n",
       "    </tr>\n",
       "    <tr>\n",
       "      <th>2</th>\n",
       "      <td>Angeloni Supermercados</td>\n",
       "      <td>2023-07-28</td>\n",
       "      <td>6.29</td>\n",
       "    </tr>\n",
       "    <tr>\n",
       "      <th>3</th>\n",
       "      <td>Angeloni Supermercados</td>\n",
       "      <td>2023-07-30</td>\n",
       "      <td>6.29</td>\n",
       "    </tr>\n",
       "    <tr>\n",
       "      <th>4</th>\n",
       "      <td>Angeloni Supermercados</td>\n",
       "      <td>2023-07-31</td>\n",
       "      <td>6.29</td>\n",
       "    </tr>\n",
       "    <tr>\n",
       "      <th>5</th>\n",
       "      <td>Angeloni Supermercados</td>\n",
       "      <td>2023-08-02</td>\n",
       "      <td>6.29</td>\n",
       "    </tr>\n",
       "    <tr>\n",
       "      <th>6</th>\n",
       "      <td>Angeloni Supermercados</td>\n",
       "      <td>2023-08-03</td>\n",
       "      <td>6.29</td>\n",
       "    </tr>\n",
       "    <tr>\n",
       "      <th>7</th>\n",
       "      <td>Angeloni Supermercados</td>\n",
       "      <td>2023-08-04</td>\n",
       "      <td>6.29</td>\n",
       "    </tr>\n",
       "    <tr>\n",
       "      <th>8</th>\n",
       "      <td>Angeloni Supermercados</td>\n",
       "      <td>2023-08-05</td>\n",
       "      <td>6.29</td>\n",
       "    </tr>\n",
       "    <tr>\n",
       "      <th>9</th>\n",
       "      <td>Angeloni Supermercados</td>\n",
       "      <td>2023-08-06</td>\n",
       "      <td>6.29</td>\n",
       "    </tr>\n",
       "    <tr>\n",
       "      <th>10</th>\n",
       "      <td>Angeloni Supermercados</td>\n",
       "      <td>2023-08-07</td>\n",
       "      <td>6.29</td>\n",
       "    </tr>\n",
       "    <tr>\n",
       "      <th>11</th>\n",
       "      <td>Angeloni Supermercados</td>\n",
       "      <td>2023-08-09</td>\n",
       "      <td>6.29</td>\n",
       "    </tr>\n",
       "    <tr>\n",
       "      <th>12</th>\n",
       "      <td>Angeloni Supermercados</td>\n",
       "      <td>2023-08-11</td>\n",
       "      <td>6.29</td>\n",
       "    </tr>\n",
       "    <tr>\n",
       "      <th>13</th>\n",
       "      <td>Angeloni Supermercados</td>\n",
       "      <td>2023-08-13</td>\n",
       "      <td>6.29</td>\n",
       "    </tr>\n",
       "    <tr>\n",
       "      <th>14</th>\n",
       "      <td>Atacadão</td>\n",
       "      <td>2023-07-26</td>\n",
       "      <td>4.99</td>\n",
       "    </tr>\n",
       "    <tr>\n",
       "      <th>15</th>\n",
       "      <td>Atacadão</td>\n",
       "      <td>2023-07-27</td>\n",
       "      <td>4.99</td>\n",
       "    </tr>\n",
       "    <tr>\n",
       "      <th>16</th>\n",
       "      <td>Atacadão</td>\n",
       "      <td>2023-07-28</td>\n",
       "      <td>4.99</td>\n",
       "    </tr>\n",
       "    <tr>\n",
       "      <th>17</th>\n",
       "      <td>Atacadão</td>\n",
       "      <td>2023-07-30</td>\n",
       "      <td>4.99</td>\n",
       "    </tr>\n",
       "    <tr>\n",
       "      <th>18</th>\n",
       "      <td>Atacadão</td>\n",
       "      <td>2023-07-31</td>\n",
       "      <td>4.99</td>\n",
       "    </tr>\n",
       "    <tr>\n",
       "      <th>19</th>\n",
       "      <td>Atacadão</td>\n",
       "      <td>2023-08-02</td>\n",
       "      <td>4.99</td>\n",
       "    </tr>\n",
       "    <tr>\n",
       "      <th>20</th>\n",
       "      <td>Atacadão</td>\n",
       "      <td>2023-08-03</td>\n",
       "      <td>4.99</td>\n",
       "    </tr>\n",
       "    <tr>\n",
       "      <th>21</th>\n",
       "      <td>Atacadão</td>\n",
       "      <td>2023-08-04</td>\n",
       "      <td>4.99</td>\n",
       "    </tr>\n",
       "    <tr>\n",
       "      <th>22</th>\n",
       "      <td>Atacadão</td>\n",
       "      <td>2023-08-05</td>\n",
       "      <td>4.99</td>\n",
       "    </tr>\n",
       "    <tr>\n",
       "      <th>23</th>\n",
       "      <td>Atacadão</td>\n",
       "      <td>2023-08-06</td>\n",
       "      <td>4.99</td>\n",
       "    </tr>\n",
       "    <tr>\n",
       "      <th>24</th>\n",
       "      <td>Atacadão</td>\n",
       "      <td>2023-08-07</td>\n",
       "      <td>4.99</td>\n",
       "    </tr>\n",
       "    <tr>\n",
       "      <th>25</th>\n",
       "      <td>Atacadão</td>\n",
       "      <td>2023-08-09</td>\n",
       "      <td>4.99</td>\n",
       "    </tr>\n",
       "    <tr>\n",
       "      <th>26</th>\n",
       "      <td>Atacadão</td>\n",
       "      <td>2023-08-11</td>\n",
       "      <td>4.99</td>\n",
       "    </tr>\n",
       "    <tr>\n",
       "      <th>27</th>\n",
       "      <td>Atacadão</td>\n",
       "      <td>2023-08-13</td>\n",
       "      <td>4.99</td>\n",
       "    </tr>\n",
       "    <tr>\n",
       "      <th>28</th>\n",
       "      <td>BIG by Carrefour</td>\n",
       "      <td>2023-07-26</td>\n",
       "      <td>7.29</td>\n",
       "    </tr>\n",
       "    <tr>\n",
       "      <th>29</th>\n",
       "      <td>BIG by Carrefour</td>\n",
       "      <td>2023-07-27</td>\n",
       "      <td>7.29</td>\n",
       "    </tr>\n",
       "    <tr>\n",
       "      <th>30</th>\n",
       "      <td>BIG by Carrefour</td>\n",
       "      <td>2023-07-28</td>\n",
       "      <td>7.29</td>\n",
       "    </tr>\n",
       "    <tr>\n",
       "      <th>31</th>\n",
       "      <td>BIG by Carrefour</td>\n",
       "      <td>2023-07-30</td>\n",
       "      <td>7.29</td>\n",
       "    </tr>\n",
       "    <tr>\n",
       "      <th>32</th>\n",
       "      <td>BIG by Carrefour</td>\n",
       "      <td>2023-07-31</td>\n",
       "      <td>7.29</td>\n",
       "    </tr>\n",
       "    <tr>\n",
       "      <th>33</th>\n",
       "      <td>BIG by Carrefour</td>\n",
       "      <td>2023-08-02</td>\n",
       "      <td>7.29</td>\n",
       "    </tr>\n",
       "    <tr>\n",
       "      <th>34</th>\n",
       "      <td>BIG by Carrefour</td>\n",
       "      <td>2023-08-03</td>\n",
       "      <td>7.29</td>\n",
       "    </tr>\n",
       "    <tr>\n",
       "      <th>35</th>\n",
       "      <td>BIG by Carrefour</td>\n",
       "      <td>2023-08-04</td>\n",
       "      <td>7.29</td>\n",
       "    </tr>\n",
       "    <tr>\n",
       "      <th>36</th>\n",
       "      <td>BIG by Carrefour</td>\n",
       "      <td>2023-08-05</td>\n",
       "      <td>7.29</td>\n",
       "    </tr>\n",
       "    <tr>\n",
       "      <th>37</th>\n",
       "      <td>BIG by Carrefour</td>\n",
       "      <td>2023-08-06</td>\n",
       "      <td>7.29</td>\n",
       "    </tr>\n",
       "    <tr>\n",
       "      <th>38</th>\n",
       "      <td>BIG by Carrefour</td>\n",
       "      <td>2023-08-07</td>\n",
       "      <td>7.29</td>\n",
       "    </tr>\n",
       "    <tr>\n",
       "      <th>39</th>\n",
       "      <td>BIG by Carrefour</td>\n",
       "      <td>2023-08-09</td>\n",
       "      <td>7.29</td>\n",
       "    </tr>\n",
       "    <tr>\n",
       "      <th>40</th>\n",
       "      <td>BIG by Carrefour</td>\n",
       "      <td>2023-08-11</td>\n",
       "      <td>7.29</td>\n",
       "    </tr>\n",
       "    <tr>\n",
       "      <th>41</th>\n",
       "      <td>BIG by Carrefour</td>\n",
       "      <td>2023-08-13</td>\n",
       "      <td>7.29</td>\n",
       "    </tr>\n",
       "    <tr>\n",
       "      <th>42</th>\n",
       "      <td>Carrefour Hiper</td>\n",
       "      <td>2023-07-26</td>\n",
       "      <td>7.29</td>\n",
       "    </tr>\n",
       "    <tr>\n",
       "      <th>43</th>\n",
       "      <td>Carrefour Hiper</td>\n",
       "      <td>2023-07-27</td>\n",
       "      <td>7.29</td>\n",
       "    </tr>\n",
       "    <tr>\n",
       "      <th>44</th>\n",
       "      <td>Carrefour Hiper</td>\n",
       "      <td>2023-07-28</td>\n",
       "      <td>7.29</td>\n",
       "    </tr>\n",
       "    <tr>\n",
       "      <th>45</th>\n",
       "      <td>Carrefour Hiper</td>\n",
       "      <td>2023-07-30</td>\n",
       "      <td>7.29</td>\n",
       "    </tr>\n",
       "    <tr>\n",
       "      <th>46</th>\n",
       "      <td>Carrefour Hiper</td>\n",
       "      <td>2023-07-31</td>\n",
       "      <td>7.29</td>\n",
       "    </tr>\n",
       "    <tr>\n",
       "      <th>47</th>\n",
       "      <td>Carrefour Hiper</td>\n",
       "      <td>2023-08-02</td>\n",
       "      <td>7.29</td>\n",
       "    </tr>\n",
       "    <tr>\n",
       "      <th>48</th>\n",
       "      <td>Carrefour Hiper</td>\n",
       "      <td>2023-08-03</td>\n",
       "      <td>7.29</td>\n",
       "    </tr>\n",
       "    <tr>\n",
       "      <th>49</th>\n",
       "      <td>Carrefour Hiper</td>\n",
       "      <td>2023-08-04</td>\n",
       "      <td>7.29</td>\n",
       "    </tr>\n",
       "    <tr>\n",
       "      <th>50</th>\n",
       "      <td>Carrefour Hiper</td>\n",
       "      <td>2023-08-05</td>\n",
       "      <td>7.29</td>\n",
       "    </tr>\n",
       "    <tr>\n",
       "      <th>51</th>\n",
       "      <td>Carrefour Hiper</td>\n",
       "      <td>2023-08-06</td>\n",
       "      <td>7.29</td>\n",
       "    </tr>\n",
       "    <tr>\n",
       "      <th>52</th>\n",
       "      <td>Carrefour Hiper</td>\n",
       "      <td>2023-08-07</td>\n",
       "      <td>7.29</td>\n",
       "    </tr>\n",
       "    <tr>\n",
       "      <th>53</th>\n",
       "      <td>Carrefour Hiper</td>\n",
       "      <td>2023-08-09</td>\n",
       "      <td>7.29</td>\n",
       "    </tr>\n",
       "    <tr>\n",
       "      <th>54</th>\n",
       "      <td>Carrefour Hiper</td>\n",
       "      <td>2023-08-11</td>\n",
       "      <td>7.29</td>\n",
       "    </tr>\n",
       "    <tr>\n",
       "      <th>55</th>\n",
       "      <td>Carrefour Hiper</td>\n",
       "      <td>2023-08-13</td>\n",
       "      <td>7.29</td>\n",
       "    </tr>\n",
       "  </tbody>\n",
       "</table>\n",
       "</div>"
      ],
      "text/plain": [
       "                store_name       date  price\n",
       "0   Angeloni Supermercados 2023-07-26   6.29\n",
       "1   Angeloni Supermercados 2023-07-27   6.29\n",
       "2   Angeloni Supermercados 2023-07-28   6.29\n",
       "3   Angeloni Supermercados 2023-07-30   6.29\n",
       "4   Angeloni Supermercados 2023-07-31   6.29\n",
       "5   Angeloni Supermercados 2023-08-02   6.29\n",
       "6   Angeloni Supermercados 2023-08-03   6.29\n",
       "7   Angeloni Supermercados 2023-08-04   6.29\n",
       "8   Angeloni Supermercados 2023-08-05   6.29\n",
       "9   Angeloni Supermercados 2023-08-06   6.29\n",
       "10  Angeloni Supermercados 2023-08-07   6.29\n",
       "11  Angeloni Supermercados 2023-08-09   6.29\n",
       "12  Angeloni Supermercados 2023-08-11   6.29\n",
       "13  Angeloni Supermercados 2023-08-13   6.29\n",
       "14                Atacadão 2023-07-26   4.99\n",
       "15                Atacadão 2023-07-27   4.99\n",
       "16                Atacadão 2023-07-28   4.99\n",
       "17                Atacadão 2023-07-30   4.99\n",
       "18                Atacadão 2023-07-31   4.99\n",
       "19                Atacadão 2023-08-02   4.99\n",
       "20                Atacadão 2023-08-03   4.99\n",
       "21                Atacadão 2023-08-04   4.99\n",
       "22                Atacadão 2023-08-05   4.99\n",
       "23                Atacadão 2023-08-06   4.99\n",
       "24                Atacadão 2023-08-07   4.99\n",
       "25                Atacadão 2023-08-09   4.99\n",
       "26                Atacadão 2023-08-11   4.99\n",
       "27                Atacadão 2023-08-13   4.99\n",
       "28        BIG by Carrefour 2023-07-26   7.29\n",
       "29        BIG by Carrefour 2023-07-27   7.29\n",
       "30        BIG by Carrefour 2023-07-28   7.29\n",
       "31        BIG by Carrefour 2023-07-30   7.29\n",
       "32        BIG by Carrefour 2023-07-31   7.29\n",
       "33        BIG by Carrefour 2023-08-02   7.29\n",
       "34        BIG by Carrefour 2023-08-03   7.29\n",
       "35        BIG by Carrefour 2023-08-04   7.29\n",
       "36        BIG by Carrefour 2023-08-05   7.29\n",
       "37        BIG by Carrefour 2023-08-06   7.29\n",
       "38        BIG by Carrefour 2023-08-07   7.29\n",
       "39        BIG by Carrefour 2023-08-09   7.29\n",
       "40        BIG by Carrefour 2023-08-11   7.29\n",
       "41        BIG by Carrefour 2023-08-13   7.29\n",
       "42         Carrefour Hiper 2023-07-26   7.29\n",
       "43         Carrefour Hiper 2023-07-27   7.29\n",
       "44         Carrefour Hiper 2023-07-28   7.29\n",
       "45         Carrefour Hiper 2023-07-30   7.29\n",
       "46         Carrefour Hiper 2023-07-31   7.29\n",
       "47         Carrefour Hiper 2023-08-02   7.29\n",
       "48         Carrefour Hiper 2023-08-03   7.29\n",
       "49         Carrefour Hiper 2023-08-04   7.29\n",
       "50         Carrefour Hiper 2023-08-05   7.29\n",
       "51         Carrefour Hiper 2023-08-06   7.29\n",
       "52         Carrefour Hiper 2023-08-07   7.29\n",
       "53         Carrefour Hiper 2023-08-09   7.29\n",
       "54         Carrefour Hiper 2023-08-11   7.29\n",
       "55         Carrefour Hiper 2023-08-13   7.29"
      ]
     },
     "execution_count": 148,
     "metadata": {},
     "output_type": "execute_result"
    }
   ],
   "source": [
    "grouped = df_haribo_sticks.groupby(['store_name', 'date'])['price'].mean().reset_index()\n",
    "grouped"
   ]
  },
  {
   "cell_type": "code",
   "execution_count": 149,
   "metadata": {},
   "outputs": [
    {
     "data": {
      "text/html": [
       "<div>\n",
       "<style scoped>\n",
       "    .dataframe tbody tr th:only-of-type {\n",
       "        vertical-align: middle;\n",
       "    }\n",
       "\n",
       "    .dataframe tbody tr th {\n",
       "        vertical-align: top;\n",
       "    }\n",
       "\n",
       "    .dataframe thead th {\n",
       "        text-align: right;\n",
       "    }\n",
       "</style>\n",
       "<table border=\"1\" class=\"dataframe\">\n",
       "  <thead>\n",
       "    <tr style=\"text-align: right;\">\n",
       "      <th>store_name</th>\n",
       "      <th>Angeloni Supermercados</th>\n",
       "      <th>Atacadão</th>\n",
       "      <th>BIG by Carrefour</th>\n",
       "      <th>Carrefour Hiper</th>\n",
       "    </tr>\n",
       "    <tr>\n",
       "      <th>date</th>\n",
       "      <th></th>\n",
       "      <th></th>\n",
       "      <th></th>\n",
       "      <th></th>\n",
       "    </tr>\n",
       "  </thead>\n",
       "  <tbody>\n",
       "    <tr>\n",
       "      <th>2023-07-26</th>\n",
       "      <td>6.29</td>\n",
       "      <td>4.99</td>\n",
       "      <td>7.29</td>\n",
       "      <td>7.29</td>\n",
       "    </tr>\n",
       "    <tr>\n",
       "      <th>2023-07-27</th>\n",
       "      <td>6.29</td>\n",
       "      <td>4.99</td>\n",
       "      <td>7.29</td>\n",
       "      <td>7.29</td>\n",
       "    </tr>\n",
       "    <tr>\n",
       "      <th>2023-07-28</th>\n",
       "      <td>6.29</td>\n",
       "      <td>4.99</td>\n",
       "      <td>7.29</td>\n",
       "      <td>7.29</td>\n",
       "    </tr>\n",
       "    <tr>\n",
       "      <th>2023-07-30</th>\n",
       "      <td>6.29</td>\n",
       "      <td>4.99</td>\n",
       "      <td>7.29</td>\n",
       "      <td>7.29</td>\n",
       "    </tr>\n",
       "    <tr>\n",
       "      <th>2023-07-31</th>\n",
       "      <td>6.29</td>\n",
       "      <td>4.99</td>\n",
       "      <td>7.29</td>\n",
       "      <td>7.29</td>\n",
       "    </tr>\n",
       "  </tbody>\n",
       "</table>\n",
       "</div>"
      ],
      "text/plain": [
       "store_name  Angeloni Supermercados  Atacadão  BIG by Carrefour  \\\n",
       "date                                                             \n",
       "2023-07-26                    6.29      4.99              7.29   \n",
       "2023-07-27                    6.29      4.99              7.29   \n",
       "2023-07-28                    6.29      4.99              7.29   \n",
       "2023-07-30                    6.29      4.99              7.29   \n",
       "2023-07-31                    6.29      4.99              7.29   \n",
       "\n",
       "store_name  Carrefour Hiper  \n",
       "date                         \n",
       "2023-07-26             7.29  \n",
       "2023-07-27             7.29  \n",
       "2023-07-28             7.29  \n",
       "2023-07-30             7.29  \n",
       "2023-07-31             7.29  "
      ]
     },
     "execution_count": 149,
     "metadata": {},
     "output_type": "execute_result"
    }
   ],
   "source": [
    "ts_grouped = grouped.pivot(index='date', columns='store_name', values='price')\n",
    "ts_grouped.head()"
   ]
  },
  {
   "cell_type": "markdown",
   "metadata": {},
   "source": [
    "### Price over time"
   ]
  },
  {
   "cell_type": "code",
   "execution_count": 150,
   "metadata": {},
   "outputs": [
    {
     "data": {
      "application/vnd.plotly.v1+json": {
       "config": {
        "plotlyServerURL": "https://plot.ly"
       },
       "data": [
        {
         "hovertemplate": "store_name=Angeloni Supermercados<br>Date=%{x}<br>value=%{y}<extra></extra>",
         "legendgroup": "Angeloni Supermercados",
         "line": {
          "color": "#636efa",
          "dash": "solid"
         },
         "marker": {
          "symbol": "circle"
         },
         "mode": "lines",
         "name": "Angeloni Supermercados",
         "orientation": "v",
         "showlegend": true,
         "type": "scatter",
         "x": [
          "2023-07-26T00:00:00",
          "2023-07-27T00:00:00",
          "2023-07-28T00:00:00",
          "2023-07-30T00:00:00",
          "2023-07-31T00:00:00",
          "2023-08-02T00:00:00",
          "2023-08-03T00:00:00",
          "2023-08-04T00:00:00",
          "2023-08-05T00:00:00",
          "2023-08-06T00:00:00",
          "2023-08-07T00:00:00",
          "2023-08-09T00:00:00",
          "2023-08-11T00:00:00",
          "2023-08-13T00:00:00"
         ],
         "xaxis": "x",
         "y": [
          6.29,
          6.29,
          6.29,
          6.29,
          6.29,
          6.29,
          6.29,
          6.29,
          6.29,
          6.29,
          6.29,
          6.29,
          6.29,
          6.29
         ],
         "yaxis": "y"
        },
        {
         "hovertemplate": "store_name=Atacadão<br>Date=%{x}<br>value=%{y}<extra></extra>",
         "legendgroup": "Atacadão",
         "line": {
          "color": "#EF553B",
          "dash": "solid"
         },
         "marker": {
          "symbol": "circle"
         },
         "mode": "lines",
         "name": "Atacadão",
         "orientation": "v",
         "showlegend": true,
         "type": "scatter",
         "x": [
          "2023-07-26T00:00:00",
          "2023-07-27T00:00:00",
          "2023-07-28T00:00:00",
          "2023-07-30T00:00:00",
          "2023-07-31T00:00:00",
          "2023-08-02T00:00:00",
          "2023-08-03T00:00:00",
          "2023-08-04T00:00:00",
          "2023-08-05T00:00:00",
          "2023-08-06T00:00:00",
          "2023-08-07T00:00:00",
          "2023-08-09T00:00:00",
          "2023-08-11T00:00:00",
          "2023-08-13T00:00:00"
         ],
         "xaxis": "x",
         "y": [
          4.99,
          4.99,
          4.99,
          4.99,
          4.99,
          4.99,
          4.99,
          4.99,
          4.99,
          4.99,
          4.99,
          4.99,
          4.99,
          4.99
         ],
         "yaxis": "y"
        },
        {
         "hovertemplate": "store_name=BIG by Carrefour<br>Date=%{x}<br>value=%{y}<extra></extra>",
         "legendgroup": "BIG by Carrefour",
         "line": {
          "color": "#00cc96",
          "dash": "solid"
         },
         "marker": {
          "symbol": "circle"
         },
         "mode": "lines",
         "name": "BIG by Carrefour",
         "orientation": "v",
         "showlegend": true,
         "type": "scatter",
         "x": [
          "2023-07-26T00:00:00",
          "2023-07-27T00:00:00",
          "2023-07-28T00:00:00",
          "2023-07-30T00:00:00",
          "2023-07-31T00:00:00",
          "2023-08-02T00:00:00",
          "2023-08-03T00:00:00",
          "2023-08-04T00:00:00",
          "2023-08-05T00:00:00",
          "2023-08-06T00:00:00",
          "2023-08-07T00:00:00",
          "2023-08-09T00:00:00",
          "2023-08-11T00:00:00",
          "2023-08-13T00:00:00"
         ],
         "xaxis": "x",
         "y": [
          7.29,
          7.290000000000001,
          7.29,
          7.29,
          7.29,
          7.29,
          7.29,
          7.29,
          7.29,
          7.29,
          7.29,
          7.29,
          7.29,
          7.29
         ],
         "yaxis": "y"
        },
        {
         "hovertemplate": "store_name=Carrefour Hiper<br>Date=%{x}<br>value=%{y}<extra></extra>",
         "legendgroup": "Carrefour Hiper",
         "line": {
          "color": "#ab63fa",
          "dash": "solid"
         },
         "marker": {
          "symbol": "circle"
         },
         "mode": "lines",
         "name": "Carrefour Hiper",
         "orientation": "v",
         "showlegend": true,
         "type": "scatter",
         "x": [
          "2023-07-26T00:00:00",
          "2023-07-27T00:00:00",
          "2023-07-28T00:00:00",
          "2023-07-30T00:00:00",
          "2023-07-31T00:00:00",
          "2023-08-02T00:00:00",
          "2023-08-03T00:00:00",
          "2023-08-04T00:00:00",
          "2023-08-05T00:00:00",
          "2023-08-06T00:00:00",
          "2023-08-07T00:00:00",
          "2023-08-09T00:00:00",
          "2023-08-11T00:00:00",
          "2023-08-13T00:00:00"
         ],
         "xaxis": "x",
         "y": [
          7.29,
          7.290000000000001,
          7.29,
          7.29,
          7.29,
          7.29,
          7.29,
          7.29,
          7.29,
          7.29,
          7.29,
          7.29,
          7.29,
          7.29
         ],
         "yaxis": "y"
        }
       ],
       "layout": {
        "legend": {
         "title": {
          "text": "store_name"
         },
         "tracegroupgap": 0
        },
        "template": {
         "data": {
          "bar": [
           {
            "error_x": {
             "color": "#2a3f5f"
            },
            "error_y": {
             "color": "#2a3f5f"
            },
            "marker": {
             "line": {
              "color": "#E5ECF6",
              "width": 0.5
             },
             "pattern": {
              "fillmode": "overlay",
              "size": 10,
              "solidity": 0.2
             }
            },
            "type": "bar"
           }
          ],
          "barpolar": [
           {
            "marker": {
             "line": {
              "color": "#E5ECF6",
              "width": 0.5
             },
             "pattern": {
              "fillmode": "overlay",
              "size": 10,
              "solidity": 0.2
             }
            },
            "type": "barpolar"
           }
          ],
          "carpet": [
           {
            "aaxis": {
             "endlinecolor": "#2a3f5f",
             "gridcolor": "white",
             "linecolor": "white",
             "minorgridcolor": "white",
             "startlinecolor": "#2a3f5f"
            },
            "baxis": {
             "endlinecolor": "#2a3f5f",
             "gridcolor": "white",
             "linecolor": "white",
             "minorgridcolor": "white",
             "startlinecolor": "#2a3f5f"
            },
            "type": "carpet"
           }
          ],
          "choropleth": [
           {
            "colorbar": {
             "outlinewidth": 0,
             "ticks": ""
            },
            "type": "choropleth"
           }
          ],
          "contour": [
           {
            "colorbar": {
             "outlinewidth": 0,
             "ticks": ""
            },
            "colorscale": [
             [
              0,
              "#0d0887"
             ],
             [
              0.1111111111111111,
              "#46039f"
             ],
             [
              0.2222222222222222,
              "#7201a8"
             ],
             [
              0.3333333333333333,
              "#9c179e"
             ],
             [
              0.4444444444444444,
              "#bd3786"
             ],
             [
              0.5555555555555556,
              "#d8576b"
             ],
             [
              0.6666666666666666,
              "#ed7953"
             ],
             [
              0.7777777777777778,
              "#fb9f3a"
             ],
             [
              0.8888888888888888,
              "#fdca26"
             ],
             [
              1,
              "#f0f921"
             ]
            ],
            "type": "contour"
           }
          ],
          "contourcarpet": [
           {
            "colorbar": {
             "outlinewidth": 0,
             "ticks": ""
            },
            "type": "contourcarpet"
           }
          ],
          "heatmap": [
           {
            "colorbar": {
             "outlinewidth": 0,
             "ticks": ""
            },
            "colorscale": [
             [
              0,
              "#0d0887"
             ],
             [
              0.1111111111111111,
              "#46039f"
             ],
             [
              0.2222222222222222,
              "#7201a8"
             ],
             [
              0.3333333333333333,
              "#9c179e"
             ],
             [
              0.4444444444444444,
              "#bd3786"
             ],
             [
              0.5555555555555556,
              "#d8576b"
             ],
             [
              0.6666666666666666,
              "#ed7953"
             ],
             [
              0.7777777777777778,
              "#fb9f3a"
             ],
             [
              0.8888888888888888,
              "#fdca26"
             ],
             [
              1,
              "#f0f921"
             ]
            ],
            "type": "heatmap"
           }
          ],
          "heatmapgl": [
           {
            "colorbar": {
             "outlinewidth": 0,
             "ticks": ""
            },
            "colorscale": [
             [
              0,
              "#0d0887"
             ],
             [
              0.1111111111111111,
              "#46039f"
             ],
             [
              0.2222222222222222,
              "#7201a8"
             ],
             [
              0.3333333333333333,
              "#9c179e"
             ],
             [
              0.4444444444444444,
              "#bd3786"
             ],
             [
              0.5555555555555556,
              "#d8576b"
             ],
             [
              0.6666666666666666,
              "#ed7953"
             ],
             [
              0.7777777777777778,
              "#fb9f3a"
             ],
             [
              0.8888888888888888,
              "#fdca26"
             ],
             [
              1,
              "#f0f921"
             ]
            ],
            "type": "heatmapgl"
           }
          ],
          "histogram": [
           {
            "marker": {
             "pattern": {
              "fillmode": "overlay",
              "size": 10,
              "solidity": 0.2
             }
            },
            "type": "histogram"
           }
          ],
          "histogram2d": [
           {
            "colorbar": {
             "outlinewidth": 0,
             "ticks": ""
            },
            "colorscale": [
             [
              0,
              "#0d0887"
             ],
             [
              0.1111111111111111,
              "#46039f"
             ],
             [
              0.2222222222222222,
              "#7201a8"
             ],
             [
              0.3333333333333333,
              "#9c179e"
             ],
             [
              0.4444444444444444,
              "#bd3786"
             ],
             [
              0.5555555555555556,
              "#d8576b"
             ],
             [
              0.6666666666666666,
              "#ed7953"
             ],
             [
              0.7777777777777778,
              "#fb9f3a"
             ],
             [
              0.8888888888888888,
              "#fdca26"
             ],
             [
              1,
              "#f0f921"
             ]
            ],
            "type": "histogram2d"
           }
          ],
          "histogram2dcontour": [
           {
            "colorbar": {
             "outlinewidth": 0,
             "ticks": ""
            },
            "colorscale": [
             [
              0,
              "#0d0887"
             ],
             [
              0.1111111111111111,
              "#46039f"
             ],
             [
              0.2222222222222222,
              "#7201a8"
             ],
             [
              0.3333333333333333,
              "#9c179e"
             ],
             [
              0.4444444444444444,
              "#bd3786"
             ],
             [
              0.5555555555555556,
              "#d8576b"
             ],
             [
              0.6666666666666666,
              "#ed7953"
             ],
             [
              0.7777777777777778,
              "#fb9f3a"
             ],
             [
              0.8888888888888888,
              "#fdca26"
             ],
             [
              1,
              "#f0f921"
             ]
            ],
            "type": "histogram2dcontour"
           }
          ],
          "mesh3d": [
           {
            "colorbar": {
             "outlinewidth": 0,
             "ticks": ""
            },
            "type": "mesh3d"
           }
          ],
          "parcoords": [
           {
            "line": {
             "colorbar": {
              "outlinewidth": 0,
              "ticks": ""
             }
            },
            "type": "parcoords"
           }
          ],
          "pie": [
           {
            "automargin": true,
            "type": "pie"
           }
          ],
          "scatter": [
           {
            "fillpattern": {
             "fillmode": "overlay",
             "size": 10,
             "solidity": 0.2
            },
            "type": "scatter"
           }
          ],
          "scatter3d": [
           {
            "line": {
             "colorbar": {
              "outlinewidth": 0,
              "ticks": ""
             }
            },
            "marker": {
             "colorbar": {
              "outlinewidth": 0,
              "ticks": ""
             }
            },
            "type": "scatter3d"
           }
          ],
          "scattercarpet": [
           {
            "marker": {
             "colorbar": {
              "outlinewidth": 0,
              "ticks": ""
             }
            },
            "type": "scattercarpet"
           }
          ],
          "scattergeo": [
           {
            "marker": {
             "colorbar": {
              "outlinewidth": 0,
              "ticks": ""
             }
            },
            "type": "scattergeo"
           }
          ],
          "scattergl": [
           {
            "marker": {
             "colorbar": {
              "outlinewidth": 0,
              "ticks": ""
             }
            },
            "type": "scattergl"
           }
          ],
          "scattermapbox": [
           {
            "marker": {
             "colorbar": {
              "outlinewidth": 0,
              "ticks": ""
             }
            },
            "type": "scattermapbox"
           }
          ],
          "scatterpolar": [
           {
            "marker": {
             "colorbar": {
              "outlinewidth": 0,
              "ticks": ""
             }
            },
            "type": "scatterpolar"
           }
          ],
          "scatterpolargl": [
           {
            "marker": {
             "colorbar": {
              "outlinewidth": 0,
              "ticks": ""
             }
            },
            "type": "scatterpolargl"
           }
          ],
          "scatterternary": [
           {
            "marker": {
             "colorbar": {
              "outlinewidth": 0,
              "ticks": ""
             }
            },
            "type": "scatterternary"
           }
          ],
          "surface": [
           {
            "colorbar": {
             "outlinewidth": 0,
             "ticks": ""
            },
            "colorscale": [
             [
              0,
              "#0d0887"
             ],
             [
              0.1111111111111111,
              "#46039f"
             ],
             [
              0.2222222222222222,
              "#7201a8"
             ],
             [
              0.3333333333333333,
              "#9c179e"
             ],
             [
              0.4444444444444444,
              "#bd3786"
             ],
             [
              0.5555555555555556,
              "#d8576b"
             ],
             [
              0.6666666666666666,
              "#ed7953"
             ],
             [
              0.7777777777777778,
              "#fb9f3a"
             ],
             [
              0.8888888888888888,
              "#fdca26"
             ],
             [
              1,
              "#f0f921"
             ]
            ],
            "type": "surface"
           }
          ],
          "table": [
           {
            "cells": {
             "fill": {
              "color": "#EBF0F8"
             },
             "line": {
              "color": "white"
             }
            },
            "header": {
             "fill": {
              "color": "#C8D4E3"
             },
             "line": {
              "color": "white"
             }
            },
            "type": "table"
           }
          ]
         },
         "layout": {
          "annotationdefaults": {
           "arrowcolor": "#2a3f5f",
           "arrowhead": 0,
           "arrowwidth": 1
          },
          "autotypenumbers": "strict",
          "coloraxis": {
           "colorbar": {
            "outlinewidth": 0,
            "ticks": ""
           }
          },
          "colorscale": {
           "diverging": [
            [
             0,
             "#8e0152"
            ],
            [
             0.1,
             "#c51b7d"
            ],
            [
             0.2,
             "#de77ae"
            ],
            [
             0.3,
             "#f1b6da"
            ],
            [
             0.4,
             "#fde0ef"
            ],
            [
             0.5,
             "#f7f7f7"
            ],
            [
             0.6,
             "#e6f5d0"
            ],
            [
             0.7,
             "#b8e186"
            ],
            [
             0.8,
             "#7fbc41"
            ],
            [
             0.9,
             "#4d9221"
            ],
            [
             1,
             "#276419"
            ]
           ],
           "sequential": [
            [
             0,
             "#0d0887"
            ],
            [
             0.1111111111111111,
             "#46039f"
            ],
            [
             0.2222222222222222,
             "#7201a8"
            ],
            [
             0.3333333333333333,
             "#9c179e"
            ],
            [
             0.4444444444444444,
             "#bd3786"
            ],
            [
             0.5555555555555556,
             "#d8576b"
            ],
            [
             0.6666666666666666,
             "#ed7953"
            ],
            [
             0.7777777777777778,
             "#fb9f3a"
            ],
            [
             0.8888888888888888,
             "#fdca26"
            ],
            [
             1,
             "#f0f921"
            ]
           ],
           "sequentialminus": [
            [
             0,
             "#0d0887"
            ],
            [
             0.1111111111111111,
             "#46039f"
            ],
            [
             0.2222222222222222,
             "#7201a8"
            ],
            [
             0.3333333333333333,
             "#9c179e"
            ],
            [
             0.4444444444444444,
             "#bd3786"
            ],
            [
             0.5555555555555556,
             "#d8576b"
            ],
            [
             0.6666666666666666,
             "#ed7953"
            ],
            [
             0.7777777777777778,
             "#fb9f3a"
            ],
            [
             0.8888888888888888,
             "#fdca26"
            ],
            [
             1,
             "#f0f921"
            ]
           ]
          },
          "colorway": [
           "#636efa",
           "#EF553B",
           "#00cc96",
           "#ab63fa",
           "#FFA15A",
           "#19d3f3",
           "#FF6692",
           "#B6E880",
           "#FF97FF",
           "#FECB52"
          ],
          "font": {
           "color": "#2a3f5f"
          },
          "geo": {
           "bgcolor": "white",
           "lakecolor": "white",
           "landcolor": "#E5ECF6",
           "showlakes": true,
           "showland": true,
           "subunitcolor": "white"
          },
          "hoverlabel": {
           "align": "left"
          },
          "hovermode": "closest",
          "mapbox": {
           "style": "light"
          },
          "paper_bgcolor": "white",
          "plot_bgcolor": "#E5ECF6",
          "polar": {
           "angularaxis": {
            "gridcolor": "white",
            "linecolor": "white",
            "ticks": ""
           },
           "bgcolor": "#E5ECF6",
           "radialaxis": {
            "gridcolor": "white",
            "linecolor": "white",
            "ticks": ""
           }
          },
          "scene": {
           "xaxis": {
            "backgroundcolor": "#E5ECF6",
            "gridcolor": "white",
            "gridwidth": 2,
            "linecolor": "white",
            "showbackground": true,
            "ticks": "",
            "zerolinecolor": "white"
           },
           "yaxis": {
            "backgroundcolor": "#E5ECF6",
            "gridcolor": "white",
            "gridwidth": 2,
            "linecolor": "white",
            "showbackground": true,
            "ticks": "",
            "zerolinecolor": "white"
           },
           "zaxis": {
            "backgroundcolor": "#E5ECF6",
            "gridcolor": "white",
            "gridwidth": 2,
            "linecolor": "white",
            "showbackground": true,
            "ticks": "",
            "zerolinecolor": "white"
           }
          },
          "shapedefaults": {
           "line": {
            "color": "#2a3f5f"
           }
          },
          "ternary": {
           "aaxis": {
            "gridcolor": "white",
            "linecolor": "white",
            "ticks": ""
           },
           "baxis": {
            "gridcolor": "white",
            "linecolor": "white",
            "ticks": ""
           },
           "bgcolor": "#E5ECF6",
           "caxis": {
            "gridcolor": "white",
            "linecolor": "white",
            "ticks": ""
           }
          },
          "title": {
           "x": 0.05
          },
          "xaxis": {
           "automargin": true,
           "gridcolor": "white",
           "linecolor": "white",
           "ticks": "",
           "title": {
            "standoff": 15
           },
           "zerolinecolor": "white",
           "zerolinewidth": 2
          },
          "yaxis": {
           "automargin": true,
           "gridcolor": "white",
           "linecolor": "white",
           "ticks": "",
           "title": {
            "standoff": 15
           },
           "zerolinecolor": "white",
           "zerolinewidth": 2
          }
         }
        },
        "title": {
         "text": "Time Series Plot of Prices Across Stores"
        },
        "xaxis": {
         "anchor": "y",
         "domain": [
          0,
          1
         ],
         "title": {
          "text": "Date"
         }
        },
        "yaxis": {
         "anchor": "x",
         "domain": [
          0,
          1
         ],
         "title": {
          "text": "value"
         }
        }
       }
      }
     },
     "metadata": {},
     "output_type": "display_data"
    }
   ],
   "source": [
    "import plotly.express as px\n",
    "\n",
    "fig = px.line(ts_grouped, title='Time Series Plot of Prices Across Stores',\n",
    "              labels={'date': 'Date', 'price': 'Price'},)\n",
    "\n",
    "# Show the plot\n",
    "fig.show()"
   ]
  }
 ],
 "metadata": {
  "kernelspec": {
   "display_name": ".venv",
   "language": "python",
   "name": "python3"
  },
  "language_info": {
   "codemirror_mode": {
    "name": "ipython",
    "version": 3
   },
   "file_extension": ".py",
   "mimetype": "text/x-python",
   "name": "python",
   "nbconvert_exporter": "python",
   "pygments_lexer": "ipython3",
   "version": "3.10.0"
  },
  "orig_nbformat": 4
 },
 "nbformat": 4,
 "nbformat_minor": 2
}
